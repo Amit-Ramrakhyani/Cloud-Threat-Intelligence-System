{
 "cells": [
  {
   "cell_type": "code",
   "execution_count": 1,
   "metadata": {},
   "outputs": [],
   "source": [
    "import numpy as np\n",
    "import pandas as pd\n",
    "from sklearn.preprocessing import MinMaxScaler\n",
    "from tensorflow.keras.models import Sequential\n",
    "from tensorflow.keras.layers import LSTM, Dense\n",
    "from sklearn.metrics import mean_squared_error\n",
    "import matplotlib.pyplot as plt"
   ]
  },
  {
   "cell_type": "code",
   "execution_count": 2,
   "metadata": {},
   "outputs": [],
   "source": [
    "# Load and preprocess the data\n",
    "data = pd.read_csv('aws_ec2_instance_metric_cpu_utilization_daily.csv')\n",
    "data['timestamp'] = pd.to_datetime(data['timestamp'])\n",
    "data.set_index('timestamp', inplace=True)"
   ]
  },
  {
   "cell_type": "code",
   "execution_count": 3,
   "metadata": {},
   "outputs": [
    {
     "name": "stderr",
     "output_type": "stream",
     "text": [
      "C:\\Users\\Amit\\AppData\\Local\\Temp\\ipykernel_22260\\2098103030.py:4: FutureWarning: DataFrame.fillna with 'method' is deprecated and will raise in a future version. Use obj.ffill() or obj.bfill() instead.\n",
      "  data = data.fillna(method='ffill')\n"
     ]
    }
   ],
   "source": [
    "# Use 'maximum' column for prediction\n",
    "data = data[['maximum']]\n",
    "data = data.resample('D').mean()\n",
    "data = data.fillna(method='ffill')"
   ]
  },
  {
   "cell_type": "code",
   "execution_count": 4,
   "metadata": {},
   "outputs": [],
   "source": [
    "# Normalize the data\n",
    "scaler = MinMaxScaler()\n",
    "data_scaled = scaler.fit_transform(data)"
   ]
  },
  {
   "cell_type": "code",
   "execution_count": 5,
   "metadata": {},
   "outputs": [],
   "source": [
    "train_size = int(len(data) * 0.8)\n",
    "train_data, test_data = data_scaled[:train_size], data_scaled[train_size:]"
   ]
  },
  {
   "cell_type": "code",
   "execution_count": 6,
   "metadata": {},
   "outputs": [],
   "source": [
    "def create_sequences(data, look_back):\n",
    "    X, y = [], []\n",
    "    for i in range(len(data) - look_back):\n",
    "        X.append(data[i:(i + look_back)])\n",
    "        y.append(data[i + look_back])\n",
    "    return np.array(X), np.array(y)"
   ]
  },
  {
   "cell_type": "code",
   "execution_count": 7,
   "metadata": {},
   "outputs": [],
   "source": [
    "look_back = 30\n",
    "X_train, y_train = create_sequences(train_data, look_back)\n",
    "X_test, y_test = create_sequences(test_data, look_back)"
   ]
  },
  {
   "cell_type": "code",
   "execution_count": 8,
   "metadata": {},
   "outputs": [],
   "source": [
    "model = Sequential()\n",
    "model.add(LSTM(50, input_shape=(look_back, 1)))\n",
    "model.add(Dense(1))\n",
    "model.compile(loss='mean_squared_error', optimizer='adam')"
   ]
  },
  {
   "cell_type": "code",
   "execution_count": 9,
   "metadata": {},
   "outputs": [
    {
     "name": "stdout",
     "output_type": "stream",
     "text": [
      "Epoch 1/100\n",
      "4/4 - 2s - loss: 0.0721 - 2s/epoch - 535ms/step\n",
      "Epoch 2/100\n",
      "4/4 - 0s - loss: 0.0398 - 89ms/epoch - 22ms/step\n",
      "Epoch 3/100\n",
      "4/4 - 0s - loss: 0.0222 - 83ms/epoch - 21ms/step\n",
      "Epoch 4/100\n",
      "4/4 - 0s - loss: 0.0264 - 65ms/epoch - 16ms/step\n",
      "Epoch 5/100\n",
      "4/4 - 0s - loss: 0.0233 - 67ms/epoch - 17ms/step\n",
      "Epoch 6/100\n",
      "4/4 - 0s - loss: 0.0206 - 75ms/epoch - 19ms/step\n",
      "Epoch 7/100\n",
      "4/4 - 0s - loss: 0.0211 - 66ms/epoch - 17ms/step\n",
      "Epoch 8/100\n",
      "4/4 - 0s - loss: 0.0213 - 64ms/epoch - 16ms/step\n",
      "Epoch 9/100\n",
      "4/4 - 0s - loss: 0.0207 - 65ms/epoch - 16ms/step\n",
      "Epoch 10/100\n",
      "4/4 - 0s - loss: 0.0199 - 67ms/epoch - 17ms/step\n",
      "Epoch 11/100\n",
      "4/4 - 0s - loss: 0.0197 - 68ms/epoch - 17ms/step\n",
      "Epoch 12/100\n",
      "4/4 - 0s - loss: 0.0197 - 69ms/epoch - 17ms/step\n",
      "Epoch 13/100\n",
      "4/4 - 0s - loss: 0.0195 - 73ms/epoch - 18ms/step\n",
      "Epoch 14/100\n",
      "4/4 - 0s - loss: 0.0193 - 66ms/epoch - 16ms/step\n",
      "Epoch 15/100\n",
      "4/4 - 0s - loss: 0.0192 - 69ms/epoch - 17ms/step\n",
      "Epoch 16/100\n",
      "4/4 - 0s - loss: 0.0191 - 69ms/epoch - 17ms/step\n",
      "Epoch 17/100\n",
      "4/4 - 0s - loss: 0.0190 - 69ms/epoch - 17ms/step\n",
      "Epoch 18/100\n",
      "4/4 - 0s - loss: 0.0189 - 64ms/epoch - 16ms/step\n",
      "Epoch 19/100\n",
      "4/4 - 0s - loss: 0.0187 - 66ms/epoch - 16ms/step\n",
      "Epoch 20/100\n",
      "4/4 - 0s - loss: 0.0186 - 81ms/epoch - 20ms/step\n",
      "Epoch 21/100\n",
      "4/4 - 0s - loss: 0.0186 - 65ms/epoch - 16ms/step\n",
      "Epoch 22/100\n",
      "4/4 - 0s - loss: 0.0185 - 65ms/epoch - 16ms/step\n",
      "Epoch 23/100\n",
      "4/4 - 0s - loss: 0.0184 - 66ms/epoch - 17ms/step\n",
      "Epoch 24/100\n",
      "4/4 - 0s - loss: 0.0183 - 67ms/epoch - 17ms/step\n",
      "Epoch 25/100\n",
      "4/4 - 0s - loss: 0.0182 - 73ms/epoch - 18ms/step\n",
      "Epoch 26/100\n",
      "4/4 - 0s - loss: 0.0181 - 65ms/epoch - 16ms/step\n",
      "Epoch 27/100\n",
      "4/4 - 0s - loss: 0.0180 - 69ms/epoch - 17ms/step\n",
      "Epoch 28/100\n",
      "4/4 - 0s - loss: 0.0179 - 71ms/epoch - 18ms/step\n",
      "Epoch 29/100\n",
      "4/4 - 0s - loss: 0.0178 - 64ms/epoch - 16ms/step\n",
      "Epoch 30/100\n",
      "4/4 - 0s - loss: 0.0177 - 66ms/epoch - 16ms/step\n",
      "Epoch 31/100\n",
      "4/4 - 0s - loss: 0.0176 - 65ms/epoch - 16ms/step\n",
      "Epoch 32/100\n",
      "4/4 - 0s - loss: 0.0175 - 69ms/epoch - 17ms/step\n",
      "Epoch 33/100\n",
      "4/4 - 0s - loss: 0.0174 - 73ms/epoch - 18ms/step\n",
      "Epoch 34/100\n",
      "4/4 - 0s - loss: 0.0174 - 66ms/epoch - 17ms/step\n",
      "Epoch 35/100\n",
      "4/4 - 0s - loss: 0.0173 - 72ms/epoch - 18ms/step\n",
      "Epoch 36/100\n",
      "4/4 - 0s - loss: 0.0172 - 65ms/epoch - 16ms/step\n",
      "Epoch 37/100\n",
      "4/4 - 0s - loss: 0.0172 - 66ms/epoch - 16ms/step\n",
      "Epoch 38/100\n",
      "4/4 - 0s - loss: 0.0171 - 67ms/epoch - 17ms/step\n",
      "Epoch 39/100\n",
      "4/4 - 0s - loss: 0.0171 - 65ms/epoch - 16ms/step\n",
      "Epoch 40/100\n",
      "4/4 - 0s - loss: 0.0170 - 67ms/epoch - 17ms/step\n",
      "Epoch 41/100\n",
      "4/4 - 0s - loss: 0.0169 - 64ms/epoch - 16ms/step\n",
      "Epoch 42/100\n",
      "4/4 - 0s - loss: 0.0169 - 72ms/epoch - 18ms/step\n",
      "Epoch 43/100\n",
      "4/4 - 0s - loss: 0.0168 - 66ms/epoch - 17ms/step\n",
      "Epoch 44/100\n",
      "4/4 - 0s - loss: 0.0167 - 64ms/epoch - 16ms/step\n",
      "Epoch 45/100\n",
      "4/4 - 0s - loss: 0.0169 - 65ms/epoch - 16ms/step\n",
      "Epoch 46/100\n",
      "4/4 - 0s - loss: 0.0167 - 70ms/epoch - 17ms/step\n",
      "Epoch 47/100\n",
      "4/4 - 0s - loss: 0.0165 - 67ms/epoch - 17ms/step\n",
      "Epoch 48/100\n",
      "4/4 - 0s - loss: 0.0166 - 65ms/epoch - 16ms/step\n",
      "Epoch 49/100\n",
      "4/4 - 0s - loss: 0.0166 - 64ms/epoch - 16ms/step\n",
      "Epoch 50/100\n",
      "4/4 - 0s - loss: 0.0163 - 77ms/epoch - 19ms/step\n",
      "Epoch 51/100\n",
      "4/4 - 0s - loss: 0.0162 - 67ms/epoch - 17ms/step\n",
      "Epoch 52/100\n",
      "4/4 - 0s - loss: 0.0162 - 65ms/epoch - 16ms/step\n",
      "Epoch 53/100\n",
      "4/4 - 0s - loss: 0.0164 - 67ms/epoch - 17ms/step\n",
      "Epoch 54/100\n",
      "4/4 - 0s - loss: 0.0161 - 67ms/epoch - 17ms/step\n",
      "Epoch 55/100\n",
      "4/4 - 0s - loss: 0.0160 - 65ms/epoch - 16ms/step\n",
      "Epoch 56/100\n",
      "4/4 - 0s - loss: 0.0161 - 67ms/epoch - 17ms/step\n",
      "Epoch 57/100\n",
      "4/4 - 0s - loss: 0.0161 - 68ms/epoch - 17ms/step\n",
      "Epoch 58/100\n",
      "4/4 - 0s - loss: 0.0159 - 66ms/epoch - 17ms/step\n",
      "Epoch 59/100\n",
      "4/4 - 0s - loss: 0.0159 - 64ms/epoch - 16ms/step\n",
      "Epoch 60/100\n",
      "4/4 - 0s - loss: 0.0159 - 65ms/epoch - 16ms/step\n",
      "Epoch 61/100\n",
      "4/4 - 0s - loss: 0.0159 - 66ms/epoch - 16ms/step\n",
      "Epoch 62/100\n",
      "4/4 - 0s - loss: 0.0157 - 67ms/epoch - 17ms/step\n",
      "Epoch 63/100\n",
      "4/4 - 0s - loss: 0.0157 - 71ms/epoch - 18ms/step\n",
      "Epoch 64/100\n",
      "4/4 - 0s - loss: 0.0157 - 70ms/epoch - 17ms/step\n",
      "Epoch 65/100\n",
      "4/4 - 0s - loss: 0.0156 - 71ms/epoch - 18ms/step\n",
      "Epoch 66/100\n",
      "4/4 - 0s - loss: 0.0156 - 66ms/epoch - 17ms/step\n",
      "Epoch 67/100\n",
      "4/4 - 0s - loss: 0.0156 - 67ms/epoch - 17ms/step\n",
      "Epoch 68/100\n",
      "4/4 - 0s - loss: 0.0155 - 65ms/epoch - 16ms/step\n",
      "Epoch 69/100\n",
      "4/4 - 0s - loss: 0.0155 - 64ms/epoch - 16ms/step\n",
      "Epoch 70/100\n",
      "4/4 - 0s - loss: 0.0154 - 65ms/epoch - 16ms/step\n",
      "Epoch 71/100\n",
      "4/4 - 0s - loss: 0.0154 - 66ms/epoch - 17ms/step\n",
      "Epoch 72/100\n",
      "4/4 - 0s - loss: 0.0154 - 66ms/epoch - 17ms/step\n",
      "Epoch 73/100\n",
      "4/4 - 0s - loss: 0.0153 - 66ms/epoch - 16ms/step\n",
      "Epoch 74/100\n",
      "4/4 - 0s - loss: 0.0153 - 64ms/epoch - 16ms/step\n",
      "Epoch 75/100\n",
      "4/4 - 0s - loss: 0.0153 - 66ms/epoch - 17ms/step\n",
      "Epoch 76/100\n",
      "4/4 - 0s - loss: 0.0152 - 63ms/epoch - 16ms/step\n",
      "Epoch 77/100\n",
      "4/4 - 0s - loss: 0.0152 - 64ms/epoch - 16ms/step\n",
      "Epoch 78/100\n",
      "4/4 - 0s - loss: 0.0153 - 66ms/epoch - 16ms/step\n",
      "Epoch 79/100\n",
      "4/4 - 0s - loss: 0.0153 - 66ms/epoch - 17ms/step\n",
      "Epoch 80/100\n",
      "4/4 - 0s - loss: 0.0150 - 78ms/epoch - 20ms/step\n",
      "Epoch 81/100\n",
      "4/4 - 0s - loss: 0.0156 - 67ms/epoch - 17ms/step\n",
      "Epoch 82/100\n",
      "4/4 - 0s - loss: 0.0157 - 70ms/epoch - 17ms/step\n",
      "Epoch 83/100\n",
      "4/4 - 0s - loss: 0.0151 - 65ms/epoch - 16ms/step\n",
      "Epoch 84/100\n",
      "4/4 - 0s - loss: 0.0153 - 67ms/epoch - 17ms/step\n",
      "Epoch 85/100\n",
      "4/4 - 0s - loss: 0.0153 - 62ms/epoch - 16ms/step\n",
      "Epoch 86/100\n",
      "4/4 - 0s - loss: 0.0150 - 71ms/epoch - 18ms/step\n",
      "Epoch 87/100\n",
      "4/4 - 0s - loss: 0.0149 - 68ms/epoch - 17ms/step\n",
      "Epoch 88/100\n",
      "4/4 - 0s - loss: 0.0149 - 68ms/epoch - 17ms/step\n",
      "Epoch 89/100\n",
      "4/4 - 0s - loss: 0.0149 - 65ms/epoch - 16ms/step\n",
      "Epoch 90/100\n",
      "4/4 - 0s - loss: 0.0149 - 67ms/epoch - 17ms/step\n",
      "Epoch 91/100\n",
      "4/4 - 0s - loss: 0.0148 - 66ms/epoch - 17ms/step\n",
      "Epoch 92/100\n",
      "4/4 - 0s - loss: 0.0151 - 66ms/epoch - 16ms/step\n",
      "Epoch 93/100\n",
      "4/4 - 0s - loss: 0.0150 - 67ms/epoch - 17ms/step\n",
      "Epoch 94/100\n",
      "4/4 - 0s - loss: 0.0148 - 74ms/epoch - 18ms/step\n",
      "Epoch 95/100\n",
      "4/4 - 0s - loss: 0.0148 - 74ms/epoch - 19ms/step\n",
      "Epoch 96/100\n",
      "4/4 - 0s - loss: 0.0146 - 67ms/epoch - 17ms/step\n",
      "Epoch 97/100\n",
      "4/4 - 0s - loss: 0.0148 - 67ms/epoch - 17ms/step\n",
      "Epoch 98/100\n",
      "4/4 - 0s - loss: 0.0151 - 74ms/epoch - 19ms/step\n",
      "Epoch 99/100\n",
      "4/4 - 0s - loss: 0.0148 - 70ms/epoch - 18ms/step\n",
      "Epoch 100/100\n",
      "4/4 - 0s - loss: 0.0147 - 67ms/epoch - 17ms/step\n"
     ]
    },
    {
     "data": {
      "text/plain": [
       "<keras.src.callbacks.History at 0x192a0722d10>"
      ]
     },
     "execution_count": 9,
     "metadata": {},
     "output_type": "execute_result"
    }
   ],
   "source": [
    "model.fit(X_train, y_train, epochs=100, batch_size=64, verbose=2)"
   ]
  },
  {
   "cell_type": "code",
   "execution_count": 10,
   "metadata": {},
   "outputs": [
    {
     "name": "stdout",
     "output_type": "stream",
     "text": [
      "1/1 [==============================] - 0s 456ms/step\n",
      "Root Mean Squared Error (RMSE): 16.028639127567367\n"
     ]
    }
   ],
   "source": [
    "y_pred = model.predict(X_test)\n",
    "y_pred = scaler.inverse_transform(y_pred)  # Inverse transform to the original scale\n",
    "\n",
    "rmse = np.sqrt(mean_squared_error(data[train_size + look_back:], y_pred))\n",
    "print(f'Root Mean Squared Error (RMSE): {rmse}')"
   ]
  },
  {
   "cell_type": "code",
   "execution_count": 11,
   "metadata": {},
   "outputs": [
    {
     "data": {
      "image/png": "[encoded data removed]",
      "text/plain": [
       "<Figure size 1200x600 with 1 Axes>"
      ]
     },
     "metadata": {},
     "output_type": "display_data"
    }
   ],
   "source": [
    "plt.figure(figsize=(12, 6))\n",
    "plt.plot(data.index[train_size + look_back:], data[train_size + look_back:], label='Actual')\n",
    "plt.plot(data.index[train_size + look_back:], y_pred, label='Predicted')\n",
    "plt.xlabel('Date')\n",
    "plt.ylabel('Maximum CPU Utilization')\n",
    "plt.legend()\n",
    "plt.title('LSTM Time Series Prediction')\n",
    "plt.show()"
   ]
  }
 ],
 "metadata": {
  "kernelspec": {
   "display_name": "Python 3",
   "language": "python",
   "name": "python3"
  },
  "language_info": {
   "codemirror_mode": {
    "name": "ipython",
    "version": 3
   },
   "file_extension": ".py",
   "mimetype": "text/x-python",
   "name": "python",
   "nbconvert_exporter": "python",
   "pygments_lexer": "ipython3",
   "version": "3.11.5"
  }
 },
 "nbformat": 4,
 "nbformat_minor": 2
}
